{
 "cells": [
  {
   "cell_type": "code",
   "execution_count": 2,
   "metadata": {
    "collapsed": false
   },
   "outputs": [
    {
     "name": "stderr",
     "output_type": "stream",
     "text": [
      "/home/mohit/scikit-learn/sklearn/cross_validation.py:43: DeprecationWarning: This module has been deprecated in favor of the model_selection module into which all the refactored classes and functions are moved. Also note that the interface of the new CV iterators are different from that of this module. This module will be removed in 0.20.\n",
      "  \"This module will be removed in 0.20.\", DeprecationWarning)\n"
     ]
    }
   ],
   "source": [
    "import pandas as pd\n",
    "import sklearn as sl\n",
    "from sklearn.decomposition import PCA\n",
    "from sklearn.cross_validation import StratifiedShuffleSplit\n",
    "from sklearn.metrics import accuracy_score\n",
    "from sklearn.metrics import precision_recall_fscore_support\n",
    "import numpy as np"
   ]
  },
  {
   "cell_type": "code",
   "execution_count": 3,
   "metadata": {
    "collapsed": false
   },
   "outputs": [],
   "source": [
    "def Extract(data):#Function to separate target from the data\n",
    "    Y = data.ix[:,data.shape[1]-1:data.shape[1]]\n",
    "    X = data.ix[:,0:data.shape[1]-1]\n",
    "    return X,Y\n",
    "\n",
    "def Normalize(data):\n",
    "    X_norm = (data - data.mean()) / (data.max() - data.min())\n",
    "    return X_norm\n",
    "\n",
    "def TrainCrossTest(X,Y,trainTest,trainValid):\n",
    "    \"\"\" \n",
    "    X - Data Avaliable\n",
    "    Y - Target data\n",
    "    trainTest - Ratio of testing set data to training set data\n",
    "    trainValid - Ratio of testing set data to validation set data\n",
    "    \"\"\"\n",
    "    sss = StratifiedShuffleSplit(Y,test_size=trainTest) \n",
    "    for train_index, test_index in sss:\n",
    "        X_train, X_test = X.ix[train_index], X.ix[test_index]\n",
    "        y_train, y_test = Y.ix[train_index], Y.ix[test_index] \n",
    "\n",
    "    X_train.reset_index(inplace = True, drop = True)\n",
    "    X_test.reset_index(inplace = True, drop = True)\n",
    "    y_train.reset_index(inplace = True, drop = True)\n",
    "    y_test.reset_index(inplace = True, drop = True)\n",
    "\n",
    "    X = X_train.copy()\n",
    "    Y = y_train.copy()\n",
    "    sss = StratifiedShuffleSplit(y_train,test_size=trainValid)\n",
    "    for train_index, valid_index in sss:\n",
    "        X_train, X_valid = X.ix[train_index], X.ix[valid_index]\n",
    "        y_train, y_valid = Y.ix[train_index], Y.ix[valid_index] \n",
    "        \n",
    "    X_train.reset_index(inplace = True, drop = True)\n",
    "    X_valid.reset_index(inplace = True, drop = True)\n",
    "    y_train.reset_index(inplace = True, drop = True)\n",
    "    y_valid.reset_index(inplace = True, drop = True)\n",
    "    \n",
    "    return X_train, y_train, X_valid, y_valid, X_test, y_test"
   ]
  },
  {
   "cell_type": "code",
   "execution_count": 4,
   "metadata": {
    "collapsed": false
   },
   "outputs": [],
   "source": [
    "data = pd.read_csv('train.csv')\n",
    "X,Y = Extract(data)\n",
    "X = Normalize(X)\n",
    "X = X.dropna(axis = 1,how = 'all') #Removing all the columns which are 'all' or 'any' na\n",
    "pca = PCA(n_components=0.95) #Changeable parameter\n",
    "pca = pca.fit(X)\n",
    "X = pd.DataFrame(pca.fit_transform(X)) #Applies PCA and converts it back to DataFrame\n",
    "X_train, y_train, X_valid, y_valid, X_test, y_test = TrainCrossTest(X,Y,0.15,0.15) #Separates the training testing and validating set of data"
   ]
  },
  {
   "cell_type": "code",
   "execution_count": 5,
   "metadata": {
    "collapsed": false
   },
   "outputs": [
    {
     "data": {
      "text/plain": [
       "((54924, 21), (54924, 1), (9693, 21), (9693, 1), (11403, 21), (11403, 1))"
      ]
     },
     "execution_count": 5,
     "metadata": {},
     "output_type": "execute_result"
    }
   ],
   "source": [
    "X_train.shape, y_train.shape, X_valid.shape, y_valid.shape, X_test.shape, y_test.shape"
   ]
  },
  {
   "cell_type": "code",
   "execution_count": 6,
   "metadata": {
    "collapsed": false
   },
   "outputs": [
    {
     "data": {
      "text/html": [
       "<div style=\"max-height:1000px;max-width:1500px;overflow:auto;\">\n",
       "<table border=\"1\" class=\"dataframe\">\n",
       "  <thead>\n",
       "    <tr style=\"text-align: right;\">\n",
       "      <th></th>\n",
       "      <th>0</th>\n",
       "      <th>1</th>\n",
       "      <th>2</th>\n",
       "      <th>3</th>\n",
       "      <th>4</th>\n",
       "      <th>5</th>\n",
       "      <th>6</th>\n",
       "      <th>7</th>\n",
       "      <th>8</th>\n",
       "      <th>9</th>\n",
       "      <th>...</th>\n",
       "      <th>11</th>\n",
       "      <th>12</th>\n",
       "      <th>13</th>\n",
       "      <th>14</th>\n",
       "      <th>15</th>\n",
       "      <th>16</th>\n",
       "      <th>17</th>\n",
       "      <th>18</th>\n",
       "      <th>19</th>\n",
       "      <th>20</th>\n",
       "    </tr>\n",
       "  </thead>\n",
       "  <tbody>\n",
       "    <tr>\n",
       "      <th>0</th>\n",
       "      <td> 0.051578</td>\n",
       "      <td> 0.210242</td>\n",
       "      <td> 1.060631</td>\n",
       "      <td> 1.561047</td>\n",
       "      <td> 1.732184</td>\n",
       "      <td>-1.002884</td>\n",
       "      <td>-0.198475</td>\n",
       "      <td> 0.144375</td>\n",
       "      <td> 0.361753</td>\n",
       "      <td> 0.322258</td>\n",
       "      <td>...</td>\n",
       "      <td> 0.034409</td>\n",
       "      <td> 0.145811</td>\n",
       "      <td>-0.201626</td>\n",
       "      <td> 0.268847</td>\n",
       "      <td> 0.084531</td>\n",
       "      <td> 0.225916</td>\n",
       "      <td>-0.015771</td>\n",
       "      <td>-0.161037</td>\n",
       "      <td>-0.056909</td>\n",
       "      <td> 0.073295</td>\n",
       "    </tr>\n",
       "    <tr>\n",
       "      <th>1</th>\n",
       "      <td>-0.371847</td>\n",
       "      <td> 0.110612</td>\n",
       "      <td> 0.191154</td>\n",
       "      <td>-0.240645</td>\n",
       "      <td> 0.168408</td>\n",
       "      <td>-0.044732</td>\n",
       "      <td>-0.647494</td>\n",
       "      <td> 0.097951</td>\n",
       "      <td>-0.330047</td>\n",
       "      <td> 0.910962</td>\n",
       "      <td>...</td>\n",
       "      <td> 0.007158</td>\n",
       "      <td> 0.087856</td>\n",
       "      <td>-0.029152</td>\n",
       "      <td> 0.461218</td>\n",
       "      <td> 0.011131</td>\n",
       "      <td> 0.315231</td>\n",
       "      <td>-0.293371</td>\n",
       "      <td> 0.214006</td>\n",
       "      <td>-0.066130</td>\n",
       "      <td>-0.104226</td>\n",
       "    </tr>\n",
       "    <tr>\n",
       "      <th>2</th>\n",
       "      <td> 0.197348</td>\n",
       "      <td>-0.545310</td>\n",
       "      <td>-0.499154</td>\n",
       "      <td> 1.333389</td>\n",
       "      <td> 0.009384</td>\n",
       "      <td> 0.130015</td>\n",
       "      <td>-0.050552</td>\n",
       "      <td> 0.477777</td>\n",
       "      <td>-0.219247</td>\n",
       "      <td> 0.032189</td>\n",
       "      <td>...</td>\n",
       "      <td>-0.043672</td>\n",
       "      <td>-0.019422</td>\n",
       "      <td>-0.021054</td>\n",
       "      <td> 0.073151</td>\n",
       "      <td> 0.028545</td>\n",
       "      <td> 0.014604</td>\n",
       "      <td>-0.044031</td>\n",
       "      <td>-0.026756</td>\n",
       "      <td> 0.025797</td>\n",
       "      <td> 0.065056</td>\n",
       "    </tr>\n",
       "    <tr>\n",
       "      <th>3</th>\n",
       "      <td>-0.644431</td>\n",
       "      <td> 1.939351</td>\n",
       "      <td>-0.281473</td>\n",
       "      <td> 0.334376</td>\n",
       "      <td>-0.241563</td>\n",
       "      <td>-0.229921</td>\n",
       "      <td> 0.242637</td>\n",
       "      <td>-0.018378</td>\n",
       "      <td>-0.129268</td>\n",
       "      <td> 1.239899</td>\n",
       "      <td>...</td>\n",
       "      <td> 0.062421</td>\n",
       "      <td>-0.641070</td>\n",
       "      <td>-0.028456</td>\n",
       "      <td> 0.096308</td>\n",
       "      <td>-0.089359</td>\n",
       "      <td> 0.293500</td>\n",
       "      <td> 0.205408</td>\n",
       "      <td>-0.060011</td>\n",
       "      <td> 0.555433</td>\n",
       "      <td>-0.789672</td>\n",
       "    </tr>\n",
       "    <tr>\n",
       "      <th>4</th>\n",
       "      <td> 0.027942</td>\n",
       "      <td>-0.440151</td>\n",
       "      <td>-0.337120</td>\n",
       "      <td>-0.187748</td>\n",
       "      <td>-0.069578</td>\n",
       "      <td> 0.081831</td>\n",
       "      <td> 0.506455</td>\n",
       "      <td>-0.383015</td>\n",
       "      <td> 0.460997</td>\n",
       "      <td>-0.007743</td>\n",
       "      <td>...</td>\n",
       "      <td> 0.080412</td>\n",
       "      <td>-0.006858</td>\n",
       "      <td>-0.035948</td>\n",
       "      <td>-0.071032</td>\n",
       "      <td>-0.024838</td>\n",
       "      <td> 0.024292</td>\n",
       "      <td>-0.148182</td>\n",
       "      <td> 0.118288</td>\n",
       "      <td>-0.001648</td>\n",
       "      <td>-0.037792</td>\n",
       "    </tr>\n",
       "  </tbody>\n",
       "</table>\n",
       "<p>5 rows × 21 columns</p>\n",
       "</div>"
      ],
      "text/plain": [
       "         0         1         2         3         4         5         6   \\\n",
       "0  0.051578  0.210242  1.060631  1.561047  1.732184 -1.002884 -0.198475   \n",
       "1 -0.371847  0.110612  0.191154 -0.240645  0.168408 -0.044732 -0.647494   \n",
       "2  0.197348 -0.545310 -0.499154  1.333389  0.009384  0.130015 -0.050552   \n",
       "3 -0.644431  1.939351 -0.281473  0.334376 -0.241563 -0.229921  0.242637   \n",
       "4  0.027942 -0.440151 -0.337120 -0.187748 -0.069578  0.081831  0.506455   \n",
       "\n",
       "         7         8         9     ...           11        12        13  \\\n",
       "0  0.144375  0.361753  0.322258    ...     0.034409  0.145811 -0.201626   \n",
       "1  0.097951 -0.330047  0.910962    ...     0.007158  0.087856 -0.029152   \n",
       "2  0.477777 -0.219247  0.032189    ...    -0.043672 -0.019422 -0.021054   \n",
       "3 -0.018378 -0.129268  1.239899    ...     0.062421 -0.641070 -0.028456   \n",
       "4 -0.383015  0.460997 -0.007743    ...     0.080412 -0.006858 -0.035948   \n",
       "\n",
       "         14        15        16        17        18        19        20  \n",
       "0  0.268847  0.084531  0.225916 -0.015771 -0.161037 -0.056909  0.073295  \n",
       "1  0.461218  0.011131  0.315231 -0.293371  0.214006 -0.066130 -0.104226  \n",
       "2  0.073151  0.028545  0.014604 -0.044031 -0.026756  0.025797  0.065056  \n",
       "3  0.096308 -0.089359  0.293500  0.205408 -0.060011  0.555433 -0.789672  \n",
       "4 -0.071032 -0.024838  0.024292 -0.148182  0.118288 -0.001648 -0.037792  \n",
       "\n",
       "[5 rows x 21 columns]"
      ]
     },
     "execution_count": 6,
     "metadata": {},
     "output_type": "execute_result"
    }
   ],
   "source": [
    "X_train.head()"
   ]
  },
  {
   "cell_type": "code",
   "execution_count": 7,
   "metadata": {
    "collapsed": false
   },
   "outputs": [
    {
     "data": {
      "text/html": [
       "<div style=\"max-height:1000px;max-width:1500px;overflow:auto;\">\n",
       "<table border=\"1\" class=\"dataframe\">\n",
       "  <thead>\n",
       "    <tr style=\"text-align: right;\">\n",
       "      <th></th>\n",
       "      <th>0</th>\n",
       "      <th>1</th>\n",
       "      <th>2</th>\n",
       "      <th>3</th>\n",
       "      <th>4</th>\n",
       "      <th>5</th>\n",
       "      <th>6</th>\n",
       "      <th>7</th>\n",
       "      <th>8</th>\n",
       "      <th>9</th>\n",
       "      <th>...</th>\n",
       "      <th>11</th>\n",
       "      <th>12</th>\n",
       "      <th>13</th>\n",
       "      <th>14</th>\n",
       "      <th>15</th>\n",
       "      <th>16</th>\n",
       "      <th>17</th>\n",
       "      <th>18</th>\n",
       "      <th>19</th>\n",
       "      <th>20</th>\n",
       "    </tr>\n",
       "  </thead>\n",
       "  <tbody>\n",
       "    <tr>\n",
       "      <th>0</th>\n",
       "      <td>-1.272353</td>\n",
       "      <td> 0.379929</td>\n",
       "      <td> 0.066901</td>\n",
       "      <td>-0.436878</td>\n",
       "      <td>-0.042552</td>\n",
       "      <td>-0.118482</td>\n",
       "      <td>-0.057761</td>\n",
       "      <td>-0.331276</td>\n",
       "      <td> 0.003733</td>\n",
       "      <td>-0.002319</td>\n",
       "      <td>...</td>\n",
       "      <td>-0.040631</td>\n",
       "      <td> 0.019370</td>\n",
       "      <td> 0.007846</td>\n",
       "      <td>-0.001764</td>\n",
       "      <td> 0.009639</td>\n",
       "      <td>-0.017210</td>\n",
       "      <td> 0.029196</td>\n",
       "      <td>-0.017139</td>\n",
       "      <td>-0.004295</td>\n",
       "      <td>-0.008347</td>\n",
       "    </tr>\n",
       "    <tr>\n",
       "      <th>1</th>\n",
       "      <td> 0.460286</td>\n",
       "      <td>-0.519345</td>\n",
       "      <td>-0.117152</td>\n",
       "      <td>-0.159916</td>\n",
       "      <td> 0.044001</td>\n",
       "      <td> 0.162093</td>\n",
       "      <td>-0.051052</td>\n",
       "      <td>-0.094183</td>\n",
       "      <td>-0.206886</td>\n",
       "      <td> 0.011157</td>\n",
       "      <td>...</td>\n",
       "      <td>-0.019609</td>\n",
       "      <td>-0.029707</td>\n",
       "      <td> 0.016287</td>\n",
       "      <td> 0.036542</td>\n",
       "      <td> 0.003558</td>\n",
       "      <td> 0.056397</td>\n",
       "      <td>-0.012977</td>\n",
       "      <td>-0.025497</td>\n",
       "      <td> 0.013843</td>\n",
       "      <td> 0.047974</td>\n",
       "    </tr>\n",
       "    <tr>\n",
       "      <th>2</th>\n",
       "      <td> 0.461223</td>\n",
       "      <td>-0.516879</td>\n",
       "      <td>-0.111939</td>\n",
       "      <td>-0.159120</td>\n",
       "      <td> 0.047655</td>\n",
       "      <td> 0.160487</td>\n",
       "      <td>-0.050969</td>\n",
       "      <td> 0.466562</td>\n",
       "      <td>-0.269852</td>\n",
       "      <td> 0.015129</td>\n",
       "      <td>...</td>\n",
       "      <td>-0.015471</td>\n",
       "      <td>-0.025389</td>\n",
       "      <td> 0.015448</td>\n",
       "      <td> 0.037759</td>\n",
       "      <td> 0.006960</td>\n",
       "      <td> 0.039378</td>\n",
       "      <td> 0.001666</td>\n",
       "      <td>-0.024096</td>\n",
       "      <td>-0.002849</td>\n",
       "      <td> 0.024673</td>\n",
       "    </tr>\n",
       "    <tr>\n",
       "      <th>3</th>\n",
       "      <td> 0.336108</td>\n",
       "      <td>-0.420267</td>\n",
       "      <td>-0.057407</td>\n",
       "      <td>-0.159068</td>\n",
       "      <td> 0.051702</td>\n",
       "      <td> 0.141111</td>\n",
       "      <td>-0.121576</td>\n",
       "      <td>-0.394197</td>\n",
       "      <td>-0.205938</td>\n",
       "      <td>-0.026854</td>\n",
       "      <td>...</td>\n",
       "      <td> 0.010184</td>\n",
       "      <td>-0.019909</td>\n",
       "      <td> 0.019623</td>\n",
       "      <td>-0.156772</td>\n",
       "      <td> 0.003391</td>\n",
       "      <td>-0.118405</td>\n",
       "      <td> 0.143512</td>\n",
       "      <td>-0.109474</td>\n",
       "      <td>-0.017494</td>\n",
       "      <td> 0.004975</td>\n",
       "    </tr>\n",
       "    <tr>\n",
       "      <th>4</th>\n",
       "      <td> 0.048908</td>\n",
       "      <td>-0.431075</td>\n",
       "      <td>-0.294117</td>\n",
       "      <td>-0.319423</td>\n",
       "      <td>-0.060709</td>\n",
       "      <td> 0.078692</td>\n",
       "      <td> 0.497600</td>\n",
       "      <td> 0.076419</td>\n",
       "      <td> 0.383966</td>\n",
       "      <td> 0.008470</td>\n",
       "      <td>...</td>\n",
       "      <td> 0.082302</td>\n",
       "      <td>-0.008913</td>\n",
       "      <td> 0.006384</td>\n",
       "      <td> 0.080754</td>\n",
       "      <td> 0.002861</td>\n",
       "      <td> 0.068167</td>\n",
       "      <td> 0.034978</td>\n",
       "      <td>-0.028881</td>\n",
       "      <td>-0.012814</td>\n",
       "      <td> 0.011072</td>\n",
       "    </tr>\n",
       "  </tbody>\n",
       "</table>\n",
       "<p>5 rows × 21 columns</p>\n",
       "</div>"
      ],
      "text/plain": [
       "         0         1         2         3         4         5         6   \\\n",
       "0 -1.272353  0.379929  0.066901 -0.436878 -0.042552 -0.118482 -0.057761   \n",
       "1  0.460286 -0.519345 -0.117152 -0.159916  0.044001  0.162093 -0.051052   \n",
       "2  0.461223 -0.516879 -0.111939 -0.159120  0.047655  0.160487 -0.050969   \n",
       "3  0.336108 -0.420267 -0.057407 -0.159068  0.051702  0.141111 -0.121576   \n",
       "4  0.048908 -0.431075 -0.294117 -0.319423 -0.060709  0.078692  0.497600   \n",
       "\n",
       "         7         8         9     ...           11        12        13  \\\n",
       "0 -0.331276  0.003733 -0.002319    ...    -0.040631  0.019370  0.007846   \n",
       "1 -0.094183 -0.206886  0.011157    ...    -0.019609 -0.029707  0.016287   \n",
       "2  0.466562 -0.269852  0.015129    ...    -0.015471 -0.025389  0.015448   \n",
       "3 -0.394197 -0.205938 -0.026854    ...     0.010184 -0.019909  0.019623   \n",
       "4  0.076419  0.383966  0.008470    ...     0.082302 -0.008913  0.006384   \n",
       "\n",
       "         14        15        16        17        18        19        20  \n",
       "0 -0.001764  0.009639 -0.017210  0.029196 -0.017139 -0.004295 -0.008347  \n",
       "1  0.036542  0.003558  0.056397 -0.012977 -0.025497  0.013843  0.047974  \n",
       "2  0.037759  0.006960  0.039378  0.001666 -0.024096 -0.002849  0.024673  \n",
       "3 -0.156772  0.003391 -0.118405  0.143512 -0.109474 -0.017494  0.004975  \n",
       "4  0.080754  0.002861  0.068167  0.034978 -0.028881 -0.012814  0.011072  \n",
       "\n",
       "[5 rows x 21 columns]"
      ]
     },
     "execution_count": 7,
     "metadata": {},
     "output_type": "execute_result"
    }
   ],
   "source": [
    "X_valid.head()"
   ]
  },
  {
   "cell_type": "code",
   "execution_count": 8,
   "metadata": {
    "collapsed": false
   },
   "outputs": [
    {
     "data": {
      "text/html": [
       "<div style=\"max-height:1000px;max-width:1500px;overflow:auto;\">\n",
       "<table border=\"1\" class=\"dataframe\">\n",
       "  <thead>\n",
       "    <tr style=\"text-align: right;\">\n",
       "      <th></th>\n",
       "      <th>0</th>\n",
       "      <th>1</th>\n",
       "      <th>2</th>\n",
       "      <th>3</th>\n",
       "      <th>4</th>\n",
       "      <th>5</th>\n",
       "      <th>6</th>\n",
       "      <th>7</th>\n",
       "      <th>8</th>\n",
       "      <th>9</th>\n",
       "      <th>...</th>\n",
       "      <th>11</th>\n",
       "      <th>12</th>\n",
       "      <th>13</th>\n",
       "      <th>14</th>\n",
       "      <th>15</th>\n",
       "      <th>16</th>\n",
       "      <th>17</th>\n",
       "      <th>18</th>\n",
       "      <th>19</th>\n",
       "      <th>20</th>\n",
       "    </tr>\n",
       "  </thead>\n",
       "  <tbody>\n",
       "    <tr>\n",
       "      <th>0</th>\n",
       "      <td>-1.273540</td>\n",
       "      <td> 0.378635</td>\n",
       "      <td> 0.062948</td>\n",
       "      <td>-0.438647</td>\n",
       "      <td>-0.037684</td>\n",
       "      <td>-0.116174</td>\n",
       "      <td>-0.054881</td>\n",
       "      <td> 0.372832</td>\n",
       "      <td>-0.076208</td>\n",
       "      <td> 0.001902</td>\n",
       "      <td>...</td>\n",
       "      <td>-0.042157</td>\n",
       "      <td> 0.009193</td>\n",
       "      <td> 0.015496</td>\n",
       "      <td>-0.005241</td>\n",
       "      <td> 0.000007</td>\n",
       "      <td> 0.009323</td>\n",
       "      <td> 0.003884</td>\n",
       "      <td>-0.018951</td>\n",
       "      <td> 0.018963</td>\n",
       "      <td> 0.034795</td>\n",
       "    </tr>\n",
       "    <tr>\n",
       "      <th>1</th>\n",
       "      <td>-0.979666</td>\n",
       "      <td> 0.203669</td>\n",
       "      <td>-0.017683</td>\n",
       "      <td>-0.424337</td>\n",
       "      <td>-0.057796</td>\n",
       "      <td>-0.084599</td>\n",
       "      <td> 0.062980</td>\n",
       "      <td>-0.460323</td>\n",
       "      <td> 0.091222</td>\n",
       "      <td> 0.078746</td>\n",
       "      <td>...</td>\n",
       "      <td>-0.083349</td>\n",
       "      <td> 0.039667</td>\n",
       "      <td>-0.019374</td>\n",
       "      <td> 0.402873</td>\n",
       "      <td> 0.047876</td>\n",
       "      <td> 0.214421</td>\n",
       "      <td>-0.157909</td>\n",
       "      <td> 0.175833</td>\n",
       "      <td> 0.020721</td>\n",
       "      <td>-0.064155</td>\n",
       "    </tr>\n",
       "    <tr>\n",
       "      <th>2</th>\n",
       "      <td>-1.274546</td>\n",
       "      <td> 0.376355</td>\n",
       "      <td> 0.057499</td>\n",
       "      <td>-0.439945</td>\n",
       "      <td>-0.038343</td>\n",
       "      <td>-0.114058</td>\n",
       "      <td>-0.053938</td>\n",
       "      <td> 0.237518</td>\n",
       "      <td>-0.061090</td>\n",
       "      <td> 0.000875</td>\n",
       "      <td>...</td>\n",
       "      <td>-0.045872</td>\n",
       "      <td> 0.001683</td>\n",
       "      <td> 0.019104</td>\n",
       "      <td>-0.008058</td>\n",
       "      <td>-0.006443</td>\n",
       "      <td> 0.032955</td>\n",
       "      <td>-0.017931</td>\n",
       "      <td>-0.020369</td>\n",
       "      <td> 0.041398</td>\n",
       "      <td> 0.070530</td>\n",
       "    </tr>\n",
       "    <tr>\n",
       "      <th>3</th>\n",
       "      <td> 0.460474</td>\n",
       "      <td>-0.518116</td>\n",
       "      <td>-0.114484</td>\n",
       "      <td>-0.159622</td>\n",
       "      <td> 0.046612</td>\n",
       "      <td> 0.161409</td>\n",
       "      <td>-0.050473</td>\n",
       "      <td> 0.321615</td>\n",
       "      <td>-0.254011</td>\n",
       "      <td> 0.013630</td>\n",
       "      <td>...</td>\n",
       "      <td>-0.017243</td>\n",
       "      <td>-0.027887</td>\n",
       "      <td> 0.016558</td>\n",
       "      <td> 0.037067</td>\n",
       "      <td> 0.004774</td>\n",
       "      <td> 0.048211</td>\n",
       "      <td>-0.006068</td>\n",
       "      <td>-0.025272</td>\n",
       "      <td> 0.004856</td>\n",
       "      <td> 0.036663</td>\n",
       "    </tr>\n",
       "    <tr>\n",
       "      <th>4</th>\n",
       "      <td>-1.548694</td>\n",
       "      <td> 0.356066</td>\n",
       "      <td>-0.322369</td>\n",
       "      <td> 1.050868</td>\n",
       "      <td>-0.079642</td>\n",
       "      <td>-0.152362</td>\n",
       "      <td>-0.039384</td>\n",
       "      <td> 0.371573</td>\n",
       "      <td>-0.004593</td>\n",
       "      <td> 0.019270</td>\n",
       "      <td>...</td>\n",
       "      <td>-0.062330</td>\n",
       "      <td> 0.027280</td>\n",
       "      <td>-0.027358</td>\n",
       "      <td> 0.035839</td>\n",
       "      <td> 0.031627</td>\n",
       "      <td>-0.049803</td>\n",
       "      <td>-0.007847</td>\n",
       "      <td>-0.019408</td>\n",
       "      <td> 0.014502</td>\n",
       "      <td> 0.020965</td>\n",
       "    </tr>\n",
       "  </tbody>\n",
       "</table>\n",
       "<p>5 rows × 21 columns</p>\n",
       "</div>"
      ],
      "text/plain": [
       "         0         1         2         3         4         5         6   \\\n",
       "0 -1.273540  0.378635  0.062948 -0.438647 -0.037684 -0.116174 -0.054881   \n",
       "1 -0.979666  0.203669 -0.017683 -0.424337 -0.057796 -0.084599  0.062980   \n",
       "2 -1.274546  0.376355  0.057499 -0.439945 -0.038343 -0.114058 -0.053938   \n",
       "3  0.460474 -0.518116 -0.114484 -0.159622  0.046612  0.161409 -0.050473   \n",
       "4 -1.548694  0.356066 -0.322369  1.050868 -0.079642 -0.152362 -0.039384   \n",
       "\n",
       "         7         8         9     ...           11        12        13  \\\n",
       "0  0.372832 -0.076208  0.001902    ...    -0.042157  0.009193  0.015496   \n",
       "1 -0.460323  0.091222  0.078746    ...    -0.083349  0.039667 -0.019374   \n",
       "2  0.237518 -0.061090  0.000875    ...    -0.045872  0.001683  0.019104   \n",
       "3  0.321615 -0.254011  0.013630    ...    -0.017243 -0.027887  0.016558   \n",
       "4  0.371573 -0.004593  0.019270    ...    -0.062330  0.027280 -0.027358   \n",
       "\n",
       "         14        15        16        17        18        19        20  \n",
       "0 -0.005241  0.000007  0.009323  0.003884 -0.018951  0.018963  0.034795  \n",
       "1  0.402873  0.047876  0.214421 -0.157909  0.175833  0.020721 -0.064155  \n",
       "2 -0.008058 -0.006443  0.032955 -0.017931 -0.020369  0.041398  0.070530  \n",
       "3  0.037067  0.004774  0.048211 -0.006068 -0.025272  0.004856  0.036663  \n",
       "4  0.035839  0.031627 -0.049803 -0.007847 -0.019408  0.014502  0.020965  \n",
       "\n",
       "[5 rows x 21 columns]"
      ]
     },
     "execution_count": 8,
     "metadata": {},
     "output_type": "execute_result"
    }
   ],
   "source": [
    "X_test.head()"
   ]
  },
  {
   "cell_type": "code",
   "execution_count": 9,
   "metadata": {
    "collapsed": false
   },
   "outputs": [],
   "source": [
    "def AccuracyScores(y_real,y_pred,resultInterest):\n",
    "    accuracy = accuracy_score(y_real,y_pred)\n",
    "    x = precision_recall_fscore_support(y_real, y_pred)\n",
    "    \n",
    "    if(resultInterest == 'All'):\n",
    "        return accuracy, x\n",
    "    else:\n",
    "        result = []\n",
    "        for j in x:\n",
    "            result.append([j[i] for i in resultInterest])\n",
    "        return accuracy, result"
   ]
  },
  {
   "cell_type": "code",
   "execution_count": 10,
   "metadata": {
    "collapsed": false
   },
   "outputs": [
    {
     "data": {
      "text/plain": [
       "(0.92365624677602398,\n",
       " (array([ 0.95995706,  0.02910053]),\n",
       "  array([ 0.96057579,  0.02864583]),\n",
       "  array([ 0.96026632,  0.02887139]),\n",
       "  array([9309,  384])))"
      ]
     },
     "execution_count": 10,
     "metadata": {},
     "output_type": "execute_result"
    }
   ],
   "source": [
    "AccuracyScores(y_valid,y_test.ix[:9692],'All')"
   ]
  },
  {
   "cell_type": "code",
   "execution_count": 1,
   "metadata": {
    "collapsed": false
   },
   "outputs": [],
   "source": [
    "from sklearn.neural_network import MLPClassifier"
   ]
  },
  {
   "cell_type": "code",
   "execution_count": 12,
   "metadata": {
    "collapsed": false
   },
   "outputs": [
    {
     "name": "stderr",
     "output_type": "stream",
     "text": [
      "/home/mohit/scikit-learn/sklearn/neural_network/multilayer_perceptron.py:901: DataConversionWarning: A column-vector y was passed when a 1d array was expected. Please change the shape of y to (n_samples, ), for example using ravel().\n",
      "  y = column_or_1d(y, warn=True)\n"
     ]
    },
    {
     "data": {
      "text/plain": [
       "MLPClassifier(activation='relu', algorithm='l-bfgs', alpha=1e-05,\n",
       "       batch_size='auto', beta_1=0.9, beta_2=0.999, early_stopping=False,\n",
       "       epsilon=1e-08, hidden_layer_sizes=(5, 2), learning_rate='constant',\n",
       "       learning_rate_init=0.001, max_iter=200, momentum=0.9,\n",
       "       nesterovs_momentum=True, power_t=0.5, random_state=1, shuffle=True,\n",
       "       tol=0.0001, validation_fraction=0.1, verbose=False,\n",
       "       warm_start=False)"
      ]
     },
     "execution_count": 12,
     "metadata": {},
     "output_type": "execute_result"
    }
   ],
   "source": [
    "X = X_train\n",
    "y = y_train\n",
    "clf = MLPClassifier(algorithm='l-bfgs', alpha=1e-5, hidden_layer_sizes=(5, 2), random_state=1)\n",
    "clf.fit(X,y)"
   ]
  },
  {
   "cell_type": "code",
   "execution_count": 15,
   "metadata": {
    "collapsed": false
   },
   "outputs": [],
   "source": [
    "xx = clf.predict(X_test)\n"
   ]
  },
  {
   "cell_type": "code",
   "execution_count": 16,
   "metadata": {
    "collapsed": false
   },
   "outputs": [
    {
     "data": {
      "text/plain": [
       "0"
      ]
     },
     "execution_count": 16,
     "metadata": {},
     "output_type": "execute_result"
    }
   ],
   "source": [
    "xx.sum()"
   ]
  },
  {
   "cell_type": "code",
   "execution_count": 17,
   "metadata": {
    "collapsed": true
   },
   "outputs": [],
   "source": [
    "def SplitRatio(df,target,resultValue,num):\n",
    "    retX = []\n",
    "    retY = []\n",
    "    count = 0\n",
    "    for i in range(target.shape[0]):\n",
    "        if target['TARGET'][i] == resultValue:\n",
    "            retX.append(df.ix[i])\n",
    "            retY.append(target.ix[i])\n",
    "        elif count < num:\n",
    "            retX.append(df.ix[i])\n",
    "            retY.append(target.ix[i])\n",
    "            count += 1\n",
    "    retX = pd.DataFrame(retX)\n",
    "    retY = pd.DataFrame(retY)\n",
    "    \n",
    "    return retX, retY"
   ]
  },
  {
   "cell_type": "code",
   "execution_count": 18,
   "metadata": {
    "collapsed": false
   },
   "outputs": [
    {
     "data": {
      "text/plain": [
       "TARGET    2173\n",
       "dtype: int64"
      ]
     },
     "execution_count": 18,
     "metadata": {},
     "output_type": "execute_result"
    }
   ],
   "source": [
    "y_train.sum()\n"
   ]
  },
  {
   "cell_type": "code",
   "execution_count": 44,
   "metadata": {
    "collapsed": false
   },
   "outputs": [
    {
     "name": "stdout",
     "output_type": "stream",
     "text": [
      "[0.17915904936014626] [0.74057649667405767] [0.25513905683192262]\n",
      "9128 2173 9148\n"
     ]
    }
   ],
   "source": [
    "max_prec = 0.0\n",
    "prec_ind = 0\n",
    "max_recall = 0.0\n",
    "recall_ind = 0\n",
    "max_fscore = 0.0\n",
    "fscore_ind = 0\n",
    "for i in range(2173,9173,5):\n",
    "    #print i\n",
    "    xx,yy = SplitRatio(X_train,y_train,1,i)\n",
    "    clf.fit(xx,yy)\n",
    "    xxx = clf.predict(X_test)\n",
    "    LL = []\n",
    "    LL = AccuracyScores(y_test,xxx,[1])\n",
    "    #print LL\n",
    "    if max_prec < LL[1][0]:\n",
    "        max_prec = LL[1][0]\n",
    "        prec_ind = i\n",
    "    if max_recall < LL[1][1]:\n",
    "        max_recall = LL[1][1]\n",
    "        recall_ind = i\n",
    "    if max_fscore < LL[1][2]:\n",
    "        max_fscore = LL[1][2]\n",
    "        fscore_ind = i\n",
    "print max_prec,max_recall,max_fscore\n",
    "print prec_ind,recall_ind,fscore_ind"
   ]
  },
  {
   "cell_type": "code",
   "execution_count": 26,
   "metadata": {
    "collapsed": false
   },
   "outputs": [
    {
     "data": {
      "text/plain": [
       "MLPClassifier(activation='relu', algorithm='l-bfgs', alpha=1e-05,\n",
       "       batch_size='auto', beta_1=0.9, beta_2=0.999, early_stopping=False,\n",
       "       epsilon=1e-08, hidden_layer_sizes=(5, 2), learning_rate='constant',\n",
       "       learning_rate_init=0.001, max_iter=200, momentum=0.9,\n",
       "       nesterovs_momentum=True, power_t=0.5, random_state=1, shuffle=True,\n",
       "       tol=0.0001, validation_fraction=0.1, verbose=False,\n",
       "       warm_start=False)"
      ]
     },
     "execution_count": 26,
     "metadata": {},
     "output_type": "execute_result"
    }
   ],
   "source": [
    "clf.fit(xx,yy)"
   ]
  },
  {
   "cell_type": "code",
   "execution_count": 27,
   "metadata": {
    "collapsed": false
   },
   "outputs": [
    {
     "data": {
      "text/plain": [
       "array([1, 0, 0, ..., 0, 0, 0])"
      ]
     },
     "execution_count": 27,
     "metadata": {},
     "output_type": "execute_result"
    }
   ],
   "source": [
    "clf.predict(X_test)"
   ]
  },
  {
   "cell_type": "code",
   "execution_count": 28,
   "metadata": {
    "collapsed": true
   },
   "outputs": [],
   "source": [
    "xxx = clf.predict(X_test)"
   ]
  },
  {
   "cell_type": "code",
   "execution_count": 29,
   "metadata": {
    "collapsed": false
   },
   "outputs": [
    {
     "data": {
      "text/plain": [
       "3243"
      ]
     },
     "execution_count": 29,
     "metadata": {},
     "output_type": "execute_result"
    }
   ],
   "source": [
    "xxx.sum()"
   ]
  },
  {
   "cell_type": "code",
   "execution_count": 31,
   "metadata": {
    "collapsed": false
   },
   "outputs": [
    {
     "data": {
      "text/plain": [
       "(0.73463123739366831,\n",
       " [[0.10299105766265804], [0.74057649667405767], [0.18083378451543045], [451]])"
      ]
     },
     "execution_count": 31,
     "metadata": {},
     "output_type": "execute_result"
    }
   ],
   "source": [
    "AccuracyScores(y_test,xxx,[1])"
   ]
  },
  {
   "cell_type": "code",
   "execution_count": 57,
   "metadata": {
    "collapsed": false
   },
   "outputs": [],
   "source": [
    "import csv\n",
    "f = open(\"Output.csv\",'w')\n",
    "writer = csv.writer(f)\n",
    "writer.writerow(['num' ,'Accuracy' ,'Precision' , 'ReCall' , 'F-Score'])\n",
    "for i in range(2173,9173+1,50):\n",
    "    xx,yy = SplitRatio(X_train,y_train,1,i)\n",
    "    clf.fit(xx,yy)\n",
    "    xxx = clf.predict(X_test)\n",
    "    LL = []\n",
    "    LL = AccuracyScores(y_test,xxx,[1])\n",
    "    #print LL\n",
    "    try:\n",
    "        writer.writerow([i,LL[0] , LL[1][0][0] , LL[1][1][0] ,LL[1][2][0]])\n",
    "    except:\n",
    "        print \" Unsuccessful\" + i"
   ]
  },
  {
   "cell_type": "code",
   "execution_count": null,
   "metadata": {
    "collapsed": true
   },
   "outputs": [],
   "source": []
  }
 ],
 "metadata": {
  "kernelspec": {
   "display_name": "Python 2",
   "language": "python",
   "name": "python2"
  },
  "language_info": {
   "codemirror_mode": {
    "name": "ipython",
    "version": 2
   },
   "file_extension": ".py",
   "mimetype": "text/x-python",
   "name": "python",
   "nbconvert_exporter": "python",
   "pygments_lexer": "ipython2",
   "version": "2.7.11"
  }
 },
 "nbformat": 4,
 "nbformat_minor": 0
}
